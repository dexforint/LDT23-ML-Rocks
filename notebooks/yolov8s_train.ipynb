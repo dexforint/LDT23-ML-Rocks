{
 "cells": [
  {
   "cell_type": "code",
   "execution_count": 1,
   "id": "ceadf86a",
   "metadata": {
    "execution": {
     "iopub.execute_input": "2024-06-23T21:08:53.977236Z",
     "iopub.status.busy": "2024-06-23T21:08:53.976669Z",
     "iopub.status.idle": "2024-06-23T21:08:53.986723Z",
     "shell.execute_reply": "2024-06-23T21:08:53.985867Z"
    },
    "papermill": {
     "duration": 0.016995,
     "end_time": "2024-06-23T21:08:53.988874",
     "exception": false,
     "start_time": "2024-06-23T21:08:53.971879",
     "status": "completed"
    },
    "tags": []
   },
   "outputs": [],
   "source": [
    "MODEL_SIZE = \"s\""
   ]
  },
  {
   "cell_type": "code",
   "execution_count": 2,
   "id": "c37ce6ea",
   "metadata": {
    "execution": {
     "iopub.execute_input": "2024-06-23T21:08:53.996385Z",
     "iopub.status.busy": "2024-06-23T21:08:53.996155Z",
     "iopub.status.idle": "2024-06-23T21:09:47.986677Z",
     "shell.execute_reply": "2024-06-23T21:09:47.985466Z"
    },
    "papermill": {
     "duration": 53.996898,
     "end_time": "2024-06-23T21:09:47.989159",
     "exception": false,
     "start_time": "2024-06-23T21:08:53.992261",
     "status": "completed"
    },
    "tags": []
   },
   "outputs": [],
   "source": [
    "!pip install -U ultralytics wandb ipywidgets > /dev/null"
   ]
  },
  {
   "cell_type": "code",
   "execution_count": 3,
   "id": "ba01b1a7",
   "metadata": {
    "execution": {
     "iopub.execute_input": "2024-06-23T21:09:47.997374Z",
     "iopub.status.busy": "2024-06-23T21:09:47.997026Z",
     "iopub.status.idle": "2024-06-23T21:09:49.956337Z",
     "shell.execute_reply": "2024-06-23T21:09:49.955490Z"
    },
    "papermill": {
     "duration": 1.965634,
     "end_time": "2024-06-23T21:09:49.958258",
     "exception": false,
     "start_time": "2024-06-23T21:09:47.992624",
     "status": "completed"
    },
    "tags": []
   },
   "outputs": [
    {
     "name": "stderr",
     "output_type": "stream",
     "text": [
      "\u001b[34m\u001b[1mwandb\u001b[0m: W&B API key is configured. Use \u001b[1m`wandb login --relogin`\u001b[0m to force relogin\n",
      "\u001b[34m\u001b[1mwandb\u001b[0m: \u001b[33mWARNING\u001b[0m If you're specifying your api key in code, ensure this code is not shared publicly.\n",
      "\u001b[34m\u001b[1mwandb\u001b[0m: \u001b[33mWARNING\u001b[0m Consider setting the WANDB_API_KEY environment variable, or running `wandb login` from the command line.\n",
      "\u001b[34m\u001b[1mwandb\u001b[0m: Appending key for api.wandb.ai to your netrc file: /root/.netrc\n"
     ]
    },
    {
     "data": {
      "text/plain": [
       "True"
      ]
     },
     "execution_count": 3,
     "metadata": {},
     "output_type": "execute_result"
    }
   ],
   "source": [
    "import wandb\n",
    "my_secret = \"\" # wandb secret key\n",
    "\n",
    "wandb.login(key=my_secret)"
   ]
  },
  {
   "cell_type": "code",
   "execution_count": 4,
   "id": "6b1eb5c1",
   "metadata": {
    "execution": {
     "iopub.execute_input": "2024-06-23T21:09:49.967303Z",
     "iopub.status.busy": "2024-06-23T21:09:49.967025Z",
     "iopub.status.idle": "2024-06-23T21:09:56.402541Z",
     "shell.execute_reply": "2024-06-23T21:09:56.401785Z"
    },
    "papermill": {
     "duration": 6.442435,
     "end_time": "2024-06-23T21:09:56.404886",
     "exception": false,
     "start_time": "2024-06-23T21:09:49.962451",
     "status": "completed"
    },
    "tags": []
   },
   "outputs": [],
   "source": [
    "from ultralytics import YOLO"
   ]
  },
  {
   "cell_type": "code",
   "execution_count": 5,
   "id": "4f1d6191",
   "metadata": {
    "execution": {
     "iopub.execute_input": "2024-06-23T21:09:56.414095Z",
     "iopub.status.busy": "2024-06-23T21:09:56.413604Z",
     "iopub.status.idle": "2024-06-23T21:09:57.531516Z",
     "shell.execute_reply": "2024-06-23T21:09:57.530692Z"
    },
    "papermill": {
     "duration": 1.124975,
     "end_time": "2024-06-23T21:09:57.533750",
     "exception": false,
     "start_time": "2024-06-23T21:09:56.408775",
     "status": "completed"
    },
    "tags": []
   },
   "outputs": [],
   "source": [
    "model = YOLO(f'/kaggle/input/yolov8s-2gpus/yolov8s-2gpus-last.pt') # загружаю последний чекпоин\n",
    "model.to(\"cuda\");"
   ]
  },
  {
   "cell_type": "code",
   "execution_count": 6,
   "id": "5cf5ebd1",
   "metadata": {
    "execution": {
     "iopub.execute_input": "2024-06-23T21:09:57.542384Z",
     "iopub.status.busy": "2024-06-23T21:09:57.542092Z",
     "iopub.status.idle": "2024-06-23T21:09:58.530702Z",
     "shell.execute_reply": "2024-06-23T21:09:58.529246Z"
    },
    "papermill": {
     "duration": 0.995839,
     "end_time": "2024-06-23T21:09:58.533367",
     "exception": false,
     "start_time": "2024-06-23T21:09:57.537528",
     "status": "completed"
    },
    "tags": []
   },
   "outputs": [],
   "source": [
    "!mkdir ./cache_dir"
   ]
  },
  {
   "cell_type": "code",
   "execution_count": null,
   "id": "f340e431",
   "metadata": {
    "execution": {
     "iopub.execute_input": "2024-06-23T21:09:58.543259Z",
     "iopub.status.busy": "2024-06-23T21:09:58.542889Z",
     "iopub.status.idle": "2024-06-24T04:43:50.443624Z",
     "shell.execute_reply": "2024-06-24T04:43:50.442503Z"
    },
    "papermill": {
     "duration": 27235.617075,
     "end_time": "2024-06-24T04:43:54.154591",
     "exception": false,
     "start_time": "2024-06-23T21:09:58.537516",
     "status": "completed"
    },
    "tags": []
   },
   "outputs": [],
   "source": [
    "%%time\n",
    "model.train(\n",
    "    data = '/kaggle/input/ldt23-data-yaml/data.yaml',\n",
    "    epochs = 100,\n",
    "    batch = 64,\n",
    "    workers = 4,\n",
    "    deterministic=False,\n",
    "    label_smoothing=0.05,\n",
    "    project='ldt23', \n",
    "    name=f\"yolov8{MODEL_SIZE}2gpus\",\n",
    "    imgsz=640,\n",
    "    auto_augment=\"autoaugment\",\n",
    "    cache=\"/kaggle/working/cache_dir\",\n",
    "    warmup_epochs=0,\n",
    "    dropout=0.1,\n",
    "    lr0=0.001,\n",
    "    lrf=0.001,\n",
    "    device=[0, 1],\n",
    "    resume=True,\n",
    ")"
   ]
  }
 ],
 "metadata": {
  "kaggle": {
   "accelerator": "nvidiaTeslaT4",
   "dataSources": [
    {
     "datasetId": 5204113,
     "sourceId": 8680969,
     "sourceType": "datasetVersion"
    },
    {
     "datasetId": 5201583,
     "sourceId": 8696329,
     "sourceType": "datasetVersion"
    },
    {
     "datasetId": 5263350,
     "sourceId": 8760408,
     "sourceType": "datasetVersion"
    },
    {
     "datasetId": 5265643,
     "sourceId": 8768348,
     "sourceType": "datasetVersion"
    }
   ],
   "dockerImageVersionId": 30733,
   "isGpuEnabled": true,
   "isInternetEnabled": true,
   "language": "python",
   "sourceType": "notebook"
  },
  "kernelspec": {
   "display_name": "Python 3",
   "language": "python",
   "name": "python3"
  },
  "language_info": {
   "codemirror_mode": {
    "name": "ipython",
    "version": 3
   },
   "file_extension": ".py",
   "mimetype": "text/x-python",
   "name": "python",
   "nbconvert_exporter": "python",
   "pygments_lexer": "ipython3",
   "version": "3.10.13"
  },
  "papermill": {
   "default_parameters": {},
   "duration": 27324.50243,
   "end_time": "2024-06-24T04:44:14.634656",
   "environment_variables": {},
   "exception": null,
   "input_path": "__notebook__.ipynb",
   "output_path": "__notebook__.ipynb",
   "parameters": {},
   "start_time": "2024-06-23T21:08:50.132226",
   "version": "2.5.0"
  }
 },
 "nbformat": 4,
 "nbformat_minor": 5
}
